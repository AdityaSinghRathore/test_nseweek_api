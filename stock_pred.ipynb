{
 "metadata": {
  "language_info": {
   "codemirror_mode": {
    "name": "ipython",
    "version": 3
   },
   "file_extension": ".py",
   "mimetype": "text/x-python",
   "name": "python",
   "nbconvert_exporter": "python",
   "pygments_lexer": "ipython3",
   "version": "3.8.8"
  },
  "orig_nbformat": 2,
  "kernelspec": {
   "name": "python388jvsc74a57bd0c2979a32d92dd5034e6a74feb07562f7ede5f2f2d0f467bfc75e613f339f36c5",
   "display_name": "Python 3.8.8 64-bit ('debugenv': conda)"
  },
  "metadata": {
   "interpreter": {
    "hash": "c2979a32d92dd5034e6a74feb07562f7ede5f2f2d0f467bfc75e613f339f36c5"
   }
  }
 },
 "nbformat": 4,
 "nbformat_minor": 2,
 "cells": [
  {
   "cell_type": "code",
   "execution_count": 7,
   "metadata": {},
   "outputs": [],
   "source": [
    "import pandas as pd"
   ]
  },
  {
   "cell_type": "code",
   "execution_count": 8,
   "metadata": {},
   "outputs": [
    {
     "output_type": "stream",
     "name": "stdout",
     "text": [
      "Requirement already satisfied: yahoo-finance in /Users/punchh_adityar/opt/anaconda3/lib/python3.8/site-packages (1.4.0)\n",
      "Requirement already satisfied: pytz in /Users/punchh_adityar/opt/anaconda3/lib/python3.8/site-packages (from yahoo-finance) (2021.1)\n",
      "Requirement already satisfied: simplejson in /Users/punchh_adityar/opt/anaconda3/lib/python3.8/site-packages (from yahoo-finance) (3.17.2)\n",
      "\u001b[33mWARNING: You are using pip version 21.1.1; however, version 21.1.2 is available.\n",
      "You should consider upgrading via the '/Users/punchh_adityar/opt/anaconda3/bin/python -m pip install --upgrade pip' command.\u001b[0m\n"
     ]
    }
   ],
   "source": [
    "# !pip install yahoo-finance"
   ]
  },
  {
   "cell_type": "code",
   "execution_count": 9,
   "metadata": {},
   "outputs": [
    {
     "output_type": "stream",
     "name": "stdout",
     "text": [
      "Requirement already satisfied: nsetools in /Users/punchh_adityar/opt/anaconda3/lib/python3.8/site-packages (1.0.11)\n",
      "Requirement already satisfied: six in /Users/punchh_adityar/opt/anaconda3/lib/python3.8/site-packages (from nsetools) (1.15.0)\n",
      "Requirement already satisfied: dateutils in /Users/punchh_adityar/opt/anaconda3/lib/python3.8/site-packages (from nsetools) (0.6.12)\n",
      "Requirement already satisfied: python-dateutil in /Users/punchh_adityar/opt/anaconda3/lib/python3.8/site-packages (from dateutils->nsetools) (2.8.1)\n",
      "Requirement already satisfied: pytz in /Users/punchh_adityar/opt/anaconda3/lib/python3.8/site-packages (from dateutils->nsetools) (2021.1)\n",
      "\u001b[33mWARNING: You are using pip version 21.1.1; however, version 21.1.2 is available.\n",
      "You should consider upgrading via the '/Users/punchh_adityar/opt/anaconda3/bin/python -m pip install --upgrade pip' command.\u001b[0m\n",
      "Collecting nsepy\n",
      "  Using cached nsepy-0.8-py3-none-any.whl\n",
      "Requirement already satisfied: beautifulsoup4 in /Users/punchh_adityar/opt/anaconda3/lib/python3.8/site-packages (from nsepy) (4.9.3)\n",
      "Requirement already satisfied: six in /Users/punchh_adityar/opt/anaconda3/lib/python3.8/site-packages (from nsepy) (1.15.0)\n",
      "Requirement already satisfied: pandas in /Users/punchh_adityar/opt/anaconda3/lib/python3.8/site-packages (from nsepy) (1.1.3)\n",
      "Requirement already satisfied: numpy in /Users/punchh_adityar/opt/anaconda3/lib/python3.8/site-packages (from nsepy) (1.19.2)\n",
      "Requirement already satisfied: click in /Users/punchh_adityar/opt/anaconda3/lib/python3.8/site-packages (from nsepy) (7.1.2)\n",
      "Requirement already satisfied: requests in /Users/punchh_adityar/opt/anaconda3/lib/python3.8/site-packages (from nsepy) (2.24.0)\n",
      "Requirement already satisfied: lxml in /Users/punchh_adityar/opt/anaconda3/lib/python3.8/site-packages (from nsepy) (4.6.1)\n",
      "Requirement already satisfied: soupsieve>1.2 in /Users/punchh_adityar/opt/anaconda3/lib/python3.8/site-packages (from beautifulsoup4->nsepy) (2.0.1)\n",
      "Requirement already satisfied: python-dateutil>=2.7.3 in /Users/punchh_adityar/opt/anaconda3/lib/python3.8/site-packages (from pandas->nsepy) (2.8.1)\n",
      "Requirement already satisfied: pytz>=2017.2 in /Users/punchh_adityar/opt/anaconda3/lib/python3.8/site-packages (from pandas->nsepy) (2021.1)\n",
      "Requirement already satisfied: urllib3!=1.25.0,!=1.25.1,<1.26,>=1.21.1 in /Users/punchh_adityar/opt/anaconda3/lib/python3.8/site-packages (from requests->nsepy) (1.25.11)\n",
      "Requirement already satisfied: chardet<4,>=3.0.2 in /Users/punchh_adityar/opt/anaconda3/lib/python3.8/site-packages (from requests->nsepy) (3.0.4)\n",
      "Requirement already satisfied: idna<3,>=2.5 in /Users/punchh_adityar/opt/anaconda3/lib/python3.8/site-packages (from requests->nsepy) (2.10)\n",
      "Requirement already satisfied: certifi>=2017.4.17 in /Users/punchh_adityar/opt/anaconda3/lib/python3.8/site-packages (from requests->nsepy) (2020.12.5)\n",
      "Installing collected packages: nsepy\n",
      "Successfully installed nsepy-0.8\n",
      "\u001b[33mWARNING: You are using pip version 21.1.1; however, version 21.1.2 is available.\n",
      "You should consider upgrading via the '/Users/punchh_adityar/opt/anaconda3/bin/python -m pip install --upgrade pip' command.\u001b[0m\n"
     ]
    }
   ],
   "source": [
    "# !pip install nsetools\n",
    "# !pip install nsepy"
   ]
  },
  {
   "cell_type": "code",
   "execution_count": 10,
   "metadata": {},
   "outputs": [],
   "source": [
    "from nsetools import Nse\n",
    "from typing import List\n",
    "\n",
    "nse = Nse()\n",
    "\n",
    "def get_all_stocks() -> List:\n",
    "    return list(nse.get_stock_codes().keys())[1:]\n",
    "\n",
    "def get_index_list() -> List:\n",
    "    return nse.get_index_list()\n",
    "\n",
    "def get_top_gainers():\n",
    "    top_gainers = nse.get_top_gainers()\n",
    "    gainer_names = list()\n",
    "    for gainer in top_gainers:\n",
    "        gainer_names.append(gainer[\"symbol\"])\n",
    "    return gainer_names\n"
   ]
  },
  {
   "cell_type": "code",
   "execution_count": 11,
   "metadata": {},
   "outputs": [
    {
     "output_type": "execute_result",
     "data": {
      "text/plain": [
       "['20MICRONS', '21STCENMGM', '3IINFOTECH', '3MINDIA', '3PLAND']"
      ]
     },
     "metadata": {},
     "execution_count": 11
    }
   ],
   "source": [
    "get_all_stocks()[:5]"
   ]
  },
  {
   "cell_type": "code",
   "execution_count": 12,
   "metadata": {},
   "outputs": [
    {
     "output_type": "execute_result",
     "data": {
      "text/plain": [
       "['NIFTY 50 Pre Open', 'NIFTY 50', 'NIFTY NEXT 50']"
      ]
     },
     "metadata": {},
     "execution_count": 12
    }
   ],
   "source": [
    "get_index_list()[:3]"
   ]
  },
  {
   "cell_type": "code",
   "execution_count": 13,
   "metadata": {},
   "outputs": [
    {
     "output_type": "execute_result",
     "data": {
      "text/plain": [
       "['RELIANCE',\n",
       " 'ADANIPORTS',\n",
       " 'GRASIM',\n",
       " 'M&M',\n",
       " 'COALINDIA',\n",
       " 'HDFCBANK',\n",
       " 'HDFC',\n",
       " 'INDUSINDBK',\n",
       " 'KOTAKBANK',\n",
       " 'JSWSTEEL']"
      ]
     },
     "metadata": {},
     "execution_count": 13
    }
   ],
   "source": [
    "get_top_gainers()"
   ]
  },
  {
   "cell_type": "code",
   "execution_count": 14,
   "metadata": {},
   "outputs": [],
   "source": [
    "import datetime\n",
    "from nsepy import get_history\n",
    "\n",
    "today = datetime.date.today()\n",
    "data = get_history(symbol=\"RELIANCE\", start = today - datetime.timedelta(days = 15), end = today)\n",
    "\n",
    "last_week = data[(today - datetime.timedelta(days = 15)):(today - datetime.timedelta(days = 7))]\n",
    "this_week = data[(today - datetime.timedelta(days = 7)):today]"
   ]
  },
  {
   "cell_type": "code",
   "execution_count": 15,
   "metadata": {},
   "outputs": [
    {
     "output_type": "execute_result",
     "data": {
      "text/plain": [
       "(6, 14)"
      ]
     },
     "metadata": {},
     "execution_count": 15
    }
   ],
   "source": [
    "\n",
    "last_week.shape"
   ]
  },
  {
   "cell_type": "code",
   "execution_count": 16,
   "metadata": {},
   "outputs": [],
   "source": [
    "#Let's select our features\n",
    "features = ['High','Turnover','VWAP', 'Volume']\n",
    "predictor = 'Close'\n",
    "X = last_week.loc[:,features]\n",
    "y = last_week.loc[:,predictor]\n",
    "\n",
    "new_X = this_week.loc[:,features]\n",
    "new_y = this_week.loc[:,predictor]\n",
    " "
   ]
  },
  {
   "cell_type": "code",
   "execution_count": 17,
   "metadata": {},
   "outputs": [],
   "source": [
    "from sklearn.model_selection import train_test_split\n",
    "\n",
    "X_train,X_test,y_train,y_test = train_test_split(X, y, test_size = 0.1, random_state = 0)"
   ]
  },
  {
   "cell_type": "code",
   "execution_count": 18,
   "metadata": {},
   "outputs": [],
   "source": [
    "\n",
    "import pandas as pd #For data related tasks\n",
    "import matplotlib.pyplot as plt #for data visualization\n",
    "from sklearn.tree import DecisionTreeRegressor # Our DEcision Tree classifier"
   ]
  },
  {
   "cell_type": "code",
   "execution_count": 19,
   "metadata": {},
   "outputs": [],
   "source": [
    "Classifier = DecisionTreeRegressor()"
   ]
  },
  {
   "cell_type": "code",
   "execution_count": 20,
   "metadata": {},
   "outputs": [
    {
     "output_type": "execute_result",
     "data": {
      "text/plain": [
       "DecisionTreeRegressor()"
      ]
     },
     "metadata": {},
     "execution_count": 20
    }
   ],
   "source": [
    "Classifier.fit(X_train, y_train)"
   ]
  },
  {
   "cell_type": "code",
   "execution_count": 21,
   "metadata": {},
   "outputs": [],
   "source": [
    "prediction = Classifier.predict(new_X)"
   ]
  },
  {
   "cell_type": "code",
   "execution_count": 22,
   "metadata": {},
   "outputs": [
    {
     "output_type": "execute_result",
     "data": {
      "text/plain": [
       "array([1985.4 , 1997.05, 1985.4 , 1997.05, 1997.05])"
      ]
     },
     "metadata": {},
     "execution_count": 22
    }
   ],
   "source": [
    "prediction"
   ]
  },
  {
   "cell_type": "code",
   "execution_count": 23,
   "metadata": {},
   "outputs": [
    {
     "output_type": "execute_result",
     "data": {
      "text/plain": [
       "'[14.34, 1.68, 2.7, 25.0, 98.0, 2.8, 1.31, 0.53, 2.7, 13.0, 0.57, 1.96, 660.0]'"
      ]
     },
     "metadata": {},
     "execution_count": 23
    }
   ],
   "source": [
    "import json\n",
    "\n",
    "data = [14.34, 1.68, 2.7, 25.0, 98.0, 2.8, 1.31, 0.53, 2.7, 13.0, 0.57, 1.96, 660.0]\n",
    "json.dumps(data)"
   ]
  },
  {
   "cell_type": "code",
   "execution_count": 24,
   "metadata": {},
   "outputs": [],
   "source": [
    "from flask import jsonify"
   ]
  },
  {
   "cell_type": "code",
   "execution_count": 25,
   "metadata": {},
   "outputs": [
    {
     "output_type": "error",
     "ename": "RuntimeError",
     "evalue": "Working outside of application context.\n\nThis typically means that you attempted to use functionality that needed\nto interface with the current application object in some way. To solve\nthis, set up an application context with app.app_context().  See the\ndocumentation for more information.",
     "traceback": [
      "\u001b[0;31m---------------------------------------------------------------------------\u001b[0m",
      "\u001b[0;31mRuntimeError\u001b[0m                              Traceback (most recent call last)",
      "\u001b[0;32m<ipython-input-25-75486bd072a2>\u001b[0m in \u001b[0;36m<module>\u001b[0;34m\u001b[0m\n\u001b[0;32m----> 1\u001b[0;31m \u001b[0mjsonify\u001b[0m\u001b[0;34m(\u001b[0m\u001b[0;34m[\u001b[0m\u001b[0;36m1\u001b[0m\u001b[0;34m,\u001b[0m\u001b[0;36m2\u001b[0m\u001b[0;34m,\u001b[0m\u001b[0;36m3\u001b[0m\u001b[0;34m,\u001b[0m\u001b[0;36m4\u001b[0m\u001b[0;34m]\u001b[0m\u001b[0;34m)\u001b[0m\u001b[0;34m\u001b[0m\u001b[0;34m\u001b[0m\u001b[0m\n\u001b[0m",
      "\u001b[0;32m~/opt/anaconda3/envs/debugenv/lib/python3.8/site-packages/flask/json/__init__.py\u001b[0m in \u001b[0;36mjsonify\u001b[0;34m(*args, **kwargs)\u001b[0m\n\u001b[1;32m    307\u001b[0m     \u001b[0mseparators\u001b[0m \u001b[0;34m=\u001b[0m \u001b[0;34m(\u001b[0m\u001b[0;34m','\u001b[0m\u001b[0;34m,\u001b[0m \u001b[0;34m':'\u001b[0m\u001b[0;34m)\u001b[0m\u001b[0;34m\u001b[0m\u001b[0;34m\u001b[0m\u001b[0m\n\u001b[1;32m    308\u001b[0m \u001b[0;34m\u001b[0m\u001b[0m\n\u001b[0;32m--> 309\u001b[0;31m     \u001b[0;32mif\u001b[0m \u001b[0mcurrent_app\u001b[0m\u001b[0;34m.\u001b[0m\u001b[0mconfig\u001b[0m\u001b[0;34m[\u001b[0m\u001b[0;34m'JSONIFY_PRETTYPRINT_REGULAR'\u001b[0m\u001b[0;34m]\u001b[0m \u001b[0;32mor\u001b[0m \u001b[0mcurrent_app\u001b[0m\u001b[0;34m.\u001b[0m\u001b[0mdebug\u001b[0m\u001b[0;34m:\u001b[0m\u001b[0;34m\u001b[0m\u001b[0;34m\u001b[0m\u001b[0m\n\u001b[0m\u001b[1;32m    310\u001b[0m         \u001b[0mindent\u001b[0m \u001b[0;34m=\u001b[0m \u001b[0;36m2\u001b[0m\u001b[0;34m\u001b[0m\u001b[0;34m\u001b[0m\u001b[0m\n\u001b[1;32m    311\u001b[0m         \u001b[0mseparators\u001b[0m \u001b[0;34m=\u001b[0m \u001b[0;34m(\u001b[0m\u001b[0;34m', '\u001b[0m\u001b[0;34m,\u001b[0m \u001b[0;34m': '\u001b[0m\u001b[0;34m)\u001b[0m\u001b[0;34m\u001b[0m\u001b[0;34m\u001b[0m\u001b[0m\n",
      "\u001b[0;32m~/opt/anaconda3/envs/debugenv/lib/python3.8/site-packages/werkzeug/local.py\u001b[0m in \u001b[0;36m__getattr__\u001b[0;34m(self, name)\u001b[0m\n\u001b[1;32m    345\u001b[0m         \u001b[0;32mif\u001b[0m \u001b[0mname\u001b[0m \u001b[0;34m==\u001b[0m \u001b[0;34m'__members__'\u001b[0m\u001b[0;34m:\u001b[0m\u001b[0;34m\u001b[0m\u001b[0;34m\u001b[0m\u001b[0m\n\u001b[1;32m    346\u001b[0m             \u001b[0;32mreturn\u001b[0m \u001b[0mdir\u001b[0m\u001b[0;34m(\u001b[0m\u001b[0mself\u001b[0m\u001b[0;34m.\u001b[0m\u001b[0m_get_current_object\u001b[0m\u001b[0;34m(\u001b[0m\u001b[0;34m)\u001b[0m\u001b[0;34m)\u001b[0m\u001b[0;34m\u001b[0m\u001b[0;34m\u001b[0m\u001b[0m\n\u001b[0;32m--> 347\u001b[0;31m         \u001b[0;32mreturn\u001b[0m \u001b[0mgetattr\u001b[0m\u001b[0;34m(\u001b[0m\u001b[0mself\u001b[0m\u001b[0;34m.\u001b[0m\u001b[0m_get_current_object\u001b[0m\u001b[0;34m(\u001b[0m\u001b[0;34m)\u001b[0m\u001b[0;34m,\u001b[0m \u001b[0mname\u001b[0m\u001b[0;34m)\u001b[0m\u001b[0;34m\u001b[0m\u001b[0;34m\u001b[0m\u001b[0m\n\u001b[0m\u001b[1;32m    348\u001b[0m \u001b[0;34m\u001b[0m\u001b[0m\n\u001b[1;32m    349\u001b[0m     \u001b[0;32mdef\u001b[0m \u001b[0m__setitem__\u001b[0m\u001b[0;34m(\u001b[0m\u001b[0mself\u001b[0m\u001b[0;34m,\u001b[0m \u001b[0mkey\u001b[0m\u001b[0;34m,\u001b[0m \u001b[0mvalue\u001b[0m\u001b[0;34m)\u001b[0m\u001b[0;34m:\u001b[0m\u001b[0;34m\u001b[0m\u001b[0;34m\u001b[0m\u001b[0m\n",
      "\u001b[0;32m~/opt/anaconda3/envs/debugenv/lib/python3.8/site-packages/werkzeug/local.py\u001b[0m in \u001b[0;36m_get_current_object\u001b[0;34m(self)\u001b[0m\n\u001b[1;32m    304\u001b[0m         \"\"\"\n\u001b[1;32m    305\u001b[0m         \u001b[0;32mif\u001b[0m \u001b[0;32mnot\u001b[0m \u001b[0mhasattr\u001b[0m\u001b[0;34m(\u001b[0m\u001b[0mself\u001b[0m\u001b[0;34m.\u001b[0m\u001b[0m__local\u001b[0m\u001b[0;34m,\u001b[0m \u001b[0;34m'__release_local__'\u001b[0m\u001b[0;34m)\u001b[0m\u001b[0;34m:\u001b[0m\u001b[0;34m\u001b[0m\u001b[0;34m\u001b[0m\u001b[0m\n\u001b[0;32m--> 306\u001b[0;31m             \u001b[0;32mreturn\u001b[0m \u001b[0mself\u001b[0m\u001b[0;34m.\u001b[0m\u001b[0m__local\u001b[0m\u001b[0;34m(\u001b[0m\u001b[0;34m)\u001b[0m\u001b[0;34m\u001b[0m\u001b[0;34m\u001b[0m\u001b[0m\n\u001b[0m\u001b[1;32m    307\u001b[0m         \u001b[0;32mtry\u001b[0m\u001b[0;34m:\u001b[0m\u001b[0;34m\u001b[0m\u001b[0;34m\u001b[0m\u001b[0m\n\u001b[1;32m    308\u001b[0m             \u001b[0;32mreturn\u001b[0m \u001b[0mgetattr\u001b[0m\u001b[0;34m(\u001b[0m\u001b[0mself\u001b[0m\u001b[0;34m.\u001b[0m\u001b[0m__local\u001b[0m\u001b[0;34m,\u001b[0m \u001b[0mself\u001b[0m\u001b[0;34m.\u001b[0m\u001b[0m__name__\u001b[0m\u001b[0;34m)\u001b[0m\u001b[0;34m\u001b[0m\u001b[0;34m\u001b[0m\u001b[0m\n",
      "\u001b[0;32m~/opt/anaconda3/envs/debugenv/lib/python3.8/site-packages/flask/globals.py\u001b[0m in \u001b[0;36m_find_app\u001b[0;34m()\u001b[0m\n\u001b[1;32m     49\u001b[0m     \u001b[0mtop\u001b[0m \u001b[0;34m=\u001b[0m \u001b[0m_app_ctx_stack\u001b[0m\u001b[0;34m.\u001b[0m\u001b[0mtop\u001b[0m\u001b[0;34m\u001b[0m\u001b[0;34m\u001b[0m\u001b[0m\n\u001b[1;32m     50\u001b[0m     \u001b[0;32mif\u001b[0m \u001b[0mtop\u001b[0m \u001b[0;32mis\u001b[0m \u001b[0;32mNone\u001b[0m\u001b[0;34m:\u001b[0m\u001b[0;34m\u001b[0m\u001b[0;34m\u001b[0m\u001b[0m\n\u001b[0;32m---> 51\u001b[0;31m         \u001b[0;32mraise\u001b[0m \u001b[0mRuntimeError\u001b[0m\u001b[0;34m(\u001b[0m\u001b[0m_app_ctx_err_msg\u001b[0m\u001b[0;34m)\u001b[0m\u001b[0;34m\u001b[0m\u001b[0;34m\u001b[0m\u001b[0m\n\u001b[0m\u001b[1;32m     52\u001b[0m     \u001b[0;32mreturn\u001b[0m \u001b[0mtop\u001b[0m\u001b[0;34m.\u001b[0m\u001b[0mapp\u001b[0m\u001b[0;34m\u001b[0m\u001b[0;34m\u001b[0m\u001b[0m\n\u001b[1;32m     53\u001b[0m \u001b[0;34m\u001b[0m\u001b[0m\n",
      "\u001b[0;31mRuntimeError\u001b[0m: Working outside of application context.\n\nThis typically means that you attempted to use functionality that needed\nto interface with the current application object in some way. To solve\nthis, set up an application context with app.app_context().  See the\ndocumentation for more information."
     ]
    }
   ],
   "source": [
    "jsonify([1,2,3,4])"
   ]
  },
  {
   "cell_type": "code",
   "execution_count": 36,
   "metadata": {},
   "outputs": [
    {
     "output_type": "execute_result",
     "data": {
      "text/plain": [
       "0    24/May\n",
       "1    25/May\n",
       "2    26/May\n",
       "3    27/May\n",
       "4    28/May\n",
       "Name: Date, dtype: object"
      ]
     },
     "metadata": {},
     "execution_count": 36
    }
   ],
   "source": [
    "list(this_week.reset_index()[\"Date\"].apply(lambda x: x.strftime(\"%d/%b\")))"
   ]
  },
  {
   "cell_type": "code",
   "execution_count": 30,
   "metadata": {},
   "outputs": [
    {
     "output_type": "execute_result",
     "data": {
      "text/plain": [
       "         Date    Symbol Series  Prev Close    Open    High      Low     Last  \\\n",
       "0  2021-05-24  RELIANCE     EQ     2002.55  2008.0  2009.8  1982.00  1985.05   \n",
       "1  2021-05-25  RELIANCE     EQ     1985.65  1996.4  1997.0  1960.00  1964.00   \n",
       "2  2021-05-26  RELIANCE     EQ     1963.15  1975.0  1979.5  1965.30  1967.00   \n",
       "3  2021-05-27  RELIANCE     EQ     1970.05  1970.3  1993.0  1962.25  1990.00   \n",
       "4  2021-05-28  RELIANCE     EQ     1976.10  1990.0  2105.0  1990.00  2094.45   \n",
       "\n",
       "     Close     VWAP    Volume      Turnover  Trades  Deliverable Volume  \\\n",
       "0  1985.65  1994.09   3946636  7.869937e+14  130059             1599399   \n",
       "1  1963.15  1974.34   6821015  1.346698e+15  208558             4040447   \n",
       "2  1970.05  1972.33   3452113  6.808701e+14  118469             1452399   \n",
       "3  1976.10  1977.57  12377100  2.447659e+15  219255             7857043   \n",
       "4  2094.80  2067.42  26060864  5.387879e+15  642384             7383808   \n",
       "\n",
       "   %Deliverble  \n",
       "0       0.4053  \n",
       "1       0.5924  \n",
       "2       0.4207  \n",
       "3       0.6348  \n",
       "4       0.2833  "
      ],
      "text/html": "<div>\n<style scoped>\n    .dataframe tbody tr th:only-of-type {\n        vertical-align: middle;\n    }\n\n    .dataframe tbody tr th {\n        vertical-align: top;\n    }\n\n    .dataframe thead th {\n        text-align: right;\n    }\n</style>\n<table border=\"1\" class=\"dataframe\">\n  <thead>\n    <tr style=\"text-align: right;\">\n      <th></th>\n      <th>Date</th>\n      <th>Symbol</th>\n      <th>Series</th>\n      <th>Prev Close</th>\n      <th>Open</th>\n      <th>High</th>\n      <th>Low</th>\n      <th>Last</th>\n      <th>Close</th>\n      <th>VWAP</th>\n      <th>Volume</th>\n      <th>Turnover</th>\n      <th>Trades</th>\n      <th>Deliverable Volume</th>\n      <th>%Deliverble</th>\n    </tr>\n  </thead>\n  <tbody>\n    <tr>\n      <th>0</th>\n      <td>2021-05-24</td>\n      <td>RELIANCE</td>\n      <td>EQ</td>\n      <td>2002.55</td>\n      <td>2008.0</td>\n      <td>2009.8</td>\n      <td>1982.00</td>\n      <td>1985.05</td>\n      <td>1985.65</td>\n      <td>1994.09</td>\n      <td>3946636</td>\n      <td>7.869937e+14</td>\n      <td>130059</td>\n      <td>1599399</td>\n      <td>0.4053</td>\n    </tr>\n    <tr>\n      <th>1</th>\n      <td>2021-05-25</td>\n      <td>RELIANCE</td>\n      <td>EQ</td>\n      <td>1985.65</td>\n      <td>1996.4</td>\n      <td>1997.0</td>\n      <td>1960.00</td>\n      <td>1964.00</td>\n      <td>1963.15</td>\n      <td>1974.34</td>\n      <td>6821015</td>\n      <td>1.346698e+15</td>\n      <td>208558</td>\n      <td>4040447</td>\n      <td>0.5924</td>\n    </tr>\n    <tr>\n      <th>2</th>\n      <td>2021-05-26</td>\n      <td>RELIANCE</td>\n      <td>EQ</td>\n      <td>1963.15</td>\n      <td>1975.0</td>\n      <td>1979.5</td>\n      <td>1965.30</td>\n      <td>1967.00</td>\n      <td>1970.05</td>\n      <td>1972.33</td>\n      <td>3452113</td>\n      <td>6.808701e+14</td>\n      <td>118469</td>\n      <td>1452399</td>\n      <td>0.4207</td>\n    </tr>\n    <tr>\n      <th>3</th>\n      <td>2021-05-27</td>\n      <td>RELIANCE</td>\n      <td>EQ</td>\n      <td>1970.05</td>\n      <td>1970.3</td>\n      <td>1993.0</td>\n      <td>1962.25</td>\n      <td>1990.00</td>\n      <td>1976.10</td>\n      <td>1977.57</td>\n      <td>12377100</td>\n      <td>2.447659e+15</td>\n      <td>219255</td>\n      <td>7857043</td>\n      <td>0.6348</td>\n    </tr>\n    <tr>\n      <th>4</th>\n      <td>2021-05-28</td>\n      <td>RELIANCE</td>\n      <td>EQ</td>\n      <td>1976.10</td>\n      <td>1990.0</td>\n      <td>2105.0</td>\n      <td>1990.00</td>\n      <td>2094.45</td>\n      <td>2094.80</td>\n      <td>2067.42</td>\n      <td>26060864</td>\n      <td>5.387879e+15</td>\n      <td>642384</td>\n      <td>7383808</td>\n      <td>0.2833</td>\n    </tr>\n  </tbody>\n</table>\n</div>"
     },
     "metadata": {},
     "execution_count": 30
    }
   ],
   "source": [
    "this_week.reset_index()"
   ]
  },
  {
   "cell_type": "code",
   "execution_count": null,
   "metadata": {},
   "outputs": [],
   "source": []
  }
 ]
}